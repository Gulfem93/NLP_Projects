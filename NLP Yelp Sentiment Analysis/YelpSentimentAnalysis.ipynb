{
 "cells": [
  {
   "cell_type": "markdown",
   "metadata": {},
   "source": [
    "### Library"
   ]
  },
  {
   "cell_type": "code",
   "execution_count": 1,
   "metadata": {},
   "outputs": [],
   "source": [
    "import requests\n",
    "from bs4 import BeautifulSoup\n",
    "\n",
    "import pandas as pd\n",
    "import numpy as np"
   ]
  },
  {
   "cell_type": "code",
   "execution_count": 2,
   "metadata": {},
   "outputs": [],
   "source": [
    "r = requests.get(\"https://www.yelp.com/biz/kia-of-marin-novato\")\n",
    "soup = BeautifulSoup(r.text, \"html.parser\")"
   ]
  },
  {
   "cell_type": "code",
   "execution_count": 3,
   "metadata": {},
   "outputs": [
    {
     "data": {
      "text/plain": [
       "200"
      ]
     },
     "execution_count": 3,
     "metadata": {},
     "output_type": "execute_result"
    }
   ],
   "source": [
    "r.status_code"
   ]
  },
  {
   "cell_type": "code",
   "execution_count": 4,
   "metadata": {},
   "outputs": [],
   "source": [
    "comments =  []\n",
    "userName = []\n",
    "rating = []"
   ]
  },
  {
   "cell_type": "markdown",
   "metadata": {},
   "source": [
    "- Yorumlar"
   ]
  },
  {
   "cell_type": "code",
   "execution_count": 5,
   "metadata": {},
   "outputs": [],
   "source": [
    "soup_lis = soup \\\n",
    " .find('ul', {'class': 'list__09f24__ynIEd'})\\\n",
    " .find_next('li', {'class': 'y-css-1jp2syp'})\\\n",
    " \n",
    "for lis in soup_lis:\n",
    "    li = lis.find_next(\"div\", {'class': 'y-css-1iy1dwt'})\\\n",
    "        .find_next(\"div\", {'class': 'y-css-cluvhg'})\\\n",
    "        .find_all_next(\"p\", {'class': 'comment__09f24__D0cxf y-css-h9c2fl'})\n",
    "        \n",
    "    for l in li:\n",
    "        comments.append(l.text)"
   ]
  },
  {
   "cell_type": "markdown",
   "metadata": {},
   "source": [
    "- Kullanıcı Adı"
   ]
  },
  {
   "cell_type": "code",
   "execution_count": 6,
   "metadata": {},
   "outputs": [],
   "source": [
    "soup_lis = soup \\\n",
    " .find('ul', {'class': 'list__09f24__ynIEd'})\\\n",
    " .find_next('li', {'class': 'y-css-1jp2syp'})\\\n",
    " \n",
    "for lis in soup_lis:\n",
    "    li = lis.find_next(\"div\", {'class': 'y-css-1iy1dwt'})\\\n",
    "        .find_next(\"span\", {'class': 'y-css-w3ea6v'})\\\n",
    "        .find_all_next(\"a\", {\"class\": \"y-css-12ly5yx\"})\n",
    "        \n",
    "    for l in li:\n",
    "        if l.text != \"1 photo\":\n",
    "            userName.append(l.text)\n",
    "\n"
   ]
  },
  {
   "cell_type": "markdown",
   "metadata": {},
   "source": [
    "- Verdikleri Oylar"
   ]
  },
  {
   "cell_type": "code",
   "execution_count": 7,
   "metadata": {},
   "outputs": [],
   "source": [
    "soup_lis = soup \\\n",
    " .find('ul', {'class': 'list__09f24__ynIEd'})\\\n",
    " .find_next('li', {'class': 'y-css-1jp2syp'})\\\n",
    " \n",
    "for lis in soup_lis:\n",
    "    li = lis.find_next(\"div\", {'class': 'y-css-1iy1dwt'})\\\n",
    "        .find_next(\"div\", {'class': 'y-css-19pbem2'})\\\n",
    "        .find_next(\"span\", {'class': 'y-css-pw0opj'})\\\n",
    "        .find_all_next(\"div\", attrs={\"class\": 'y-css-9tnml4'})\n",
    "        \n",
    "        \n",
    "    for l in li:\n",
    "        #print(l['aria-label'])\n",
    "        rating.append(l['aria-label'])\n",
    "    \n",
    "    rating = rating[:10]\n",
    "        "
   ]
  },
  {
   "cell_type": "code",
   "execution_count": 8,
   "metadata": {},
   "outputs": [],
   "source": [
    "data = pd.DataFrame(userName, columns=[\"UserName\"])\n",
    "data[\"Rating\"] = pd.DataFrame(rating, columns=[\"Rating\"])\n",
    "data[\"Comments\"] = pd.DataFrame(comments, columns=[\"Comments\"])"
   ]
  },
  {
   "cell_type": "code",
   "execution_count": 9,
   "metadata": {},
   "outputs": [
    {
     "data": {
      "text/html": [
       "<div>\n",
       "<style scoped>\n",
       "    .dataframe tbody tr th:only-of-type {\n",
       "        vertical-align: middle;\n",
       "    }\n",
       "\n",
       "    .dataframe tbody tr th {\n",
       "        vertical-align: top;\n",
       "    }\n",
       "\n",
       "    .dataframe thead th {\n",
       "        text-align: right;\n",
       "    }\n",
       "</style>\n",
       "<table border=\"1\" class=\"dataframe\">\n",
       "  <thead>\n",
       "    <tr style=\"text-align: right;\">\n",
       "      <th></th>\n",
       "      <th>UserName</th>\n",
       "      <th>Rating</th>\n",
       "      <th>Comments</th>\n",
       "    </tr>\n",
       "  </thead>\n",
       "  <tbody>\n",
       "    <tr>\n",
       "      <th>0</th>\n",
       "      <td>Maureen P.</td>\n",
       "      <td>5 star rating</td>\n",
       "      <td>Even an EV needs service from time to time. Ki...</td>\n",
       "    </tr>\n",
       "    <tr>\n",
       "      <th>1</th>\n",
       "      <td>Isis L.</td>\n",
       "      <td>5 star rating</td>\n",
       "      <td>I wasn't looking to buy a car as I was content...</td>\n",
       "    </tr>\n",
       "    <tr>\n",
       "      <th>2</th>\n",
       "      <td>Patrick H.</td>\n",
       "      <td>5 star rating</td>\n",
       "      <td>Worked with Julio and he was excellent from st...</td>\n",
       "    </tr>\n",
       "    <tr>\n",
       "      <th>3</th>\n",
       "      <td>Koichi D.</td>\n",
       "      <td>5 star rating</td>\n",
       "      <td>Been dealing with Kia Marin for years. Leased ...</td>\n",
       "    </tr>\n",
       "    <tr>\n",
       "      <th>4</th>\n",
       "      <td>Janessa B.</td>\n",
       "      <td>5 star rating</td>\n",
       "      <td>Been bringing my Kia k5 here for a couple of y...</td>\n",
       "    </tr>\n",
       "  </tbody>\n",
       "</table>\n",
       "</div>"
      ],
      "text/plain": [
       "     UserName         Rating  \\\n",
       "0  Maureen P.  5 star rating   \n",
       "1     Isis L.  5 star rating   \n",
       "2  Patrick H.  5 star rating   \n",
       "3   Koichi D.  5 star rating   \n",
       "4  Janessa B.  5 star rating   \n",
       "\n",
       "                                            Comments  \n",
       "0  Even an EV needs service from time to time. Ki...  \n",
       "1  I wasn't looking to buy a car as I was content...  \n",
       "2  Worked with Julio and he was excellent from st...  \n",
       "3  Been dealing with Kia Marin for years. Leased ...  \n",
       "4  Been bringing my Kia k5 here for a couple of y...  "
      ]
     },
     "execution_count": 9,
     "metadata": {},
     "output_type": "execute_result"
    }
   ],
   "source": [
    "data.head()"
   ]
  },
  {
   "cell_type": "code",
   "execution_count": null,
   "metadata": {},
   "outputs": [],
   "source": []
  }
 ],
 "metadata": {
  "kernelspec": {
   "display_name": "Python 3",
   "language": "python",
   "name": "python3"
  },
  "language_info": {
   "codemirror_mode": {
    "name": "ipython",
    "version": 3
   },
   "file_extension": ".py",
   "mimetype": "text/x-python",
   "name": "python",
   "nbconvert_exporter": "python",
   "pygments_lexer": "ipython3",
   "version": "3.12.4"
  }
 },
 "nbformat": 4,
 "nbformat_minor": 2
}
