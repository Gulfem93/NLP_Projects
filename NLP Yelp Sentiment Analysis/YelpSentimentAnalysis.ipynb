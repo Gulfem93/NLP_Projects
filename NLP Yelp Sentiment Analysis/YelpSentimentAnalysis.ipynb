{
 "cells": [
  {
   "cell_type": "markdown",
   "metadata": {},
   "source": [
    "### Library"
   ]
  },
  {
   "cell_type": "code",
   "execution_count": 96,
   "metadata": {},
   "outputs": [
    {
     "name": "stdout",
     "output_type": "stream",
     "text": [
      "Requirement already satisfied: requests in c:\\users\\gulfe\\onedrive\\desktop\\nlp_projects\\.venv\\lib\\site-packages (2.32.3)\n",
      "Requirement already satisfied: charset-normalizer<4,>=2 in c:\\users\\gulfe\\onedrive\\desktop\\nlp_projects\\.venv\\lib\\site-packages (from requests) (3.3.2)\n",
      "Requirement already satisfied: idna<4,>=2.5 in c:\\users\\gulfe\\onedrive\\desktop\\nlp_projects\\.venv\\lib\\site-packages (from requests) (3.7)\n",
      "Requirement already satisfied: urllib3<3,>=1.21.1 in c:\\users\\gulfe\\onedrive\\desktop\\nlp_projects\\.venv\\lib\\site-packages (from requests) (2.2.1)\n",
      "Requirement already satisfied: certifi>=2017.4.17 in c:\\users\\gulfe\\onedrive\\desktop\\nlp_projects\\.venv\\lib\\site-packages (from requests) (2024.6.2)\n",
      "Note: you may need to restart the kernel to use updated packages.\n",
      "Requirement already satisfied: BeautifulSoup4 in c:\\users\\gulfe\\onedrive\\desktop\\nlp_projects\\.venv\\lib\\site-packages (4.12.3)\n",
      "Requirement already satisfied: soupsieve>1.2 in c:\\users\\gulfe\\onedrive\\desktop\\nlp_projects\\.venv\\lib\\site-packages (from BeautifulSoup4) (2.5)\n",
      "Note: you may need to restart the kernel to use updated packages.\n"
     ]
    }
   ],
   "source": [
    "%pip install requests\n",
    "%pip install BeautifulSoup4"
   ]
  },
  {
   "cell_type": "code",
   "execution_count": 97,
   "metadata": {},
   "outputs": [],
   "source": [
    "import requests\n",
    "from bs4 import BeautifulSoup\n",
    "\n",
    "import pandas as pd\n",
    "import numpy as np\n",
    "\n",
    "# import textblob\n",
    "from textblob import Word\n",
    "from textblob import TextBlob"
   ]
  },
  {
   "cell_type": "code",
   "execution_count": 98,
   "metadata": {},
   "outputs": [],
   "source": [
    "r = requests.get(\"https://www.yelp.com/biz/kia-of-marin-novato\")\n",
    "soup = BeautifulSoup(r.text, \"html.parser\")"
   ]
  },
  {
   "cell_type": "code",
   "execution_count": 99,
   "metadata": {},
   "outputs": [
    {
     "data": {
      "text/plain": [
       "200"
      ]
     },
     "execution_count": 99,
     "metadata": {},
     "output_type": "execute_result"
    }
   ],
   "source": [
    "r.status_code"
   ]
  },
  {
   "cell_type": "markdown",
   "metadata": {},
   "source": [
    "## Pulling data from the internet using BeautifulSoup"
   ]
  },
  {
   "cell_type": "code",
   "execution_count": 100,
   "metadata": {},
   "outputs": [],
   "source": [
    "def create_data():\n",
    "    comments =  []\n",
    "    userName = []\n",
    "    rating = []\n",
    "    \n",
    "    \n",
    "    soup_lis = soup \\\n",
    "    .find('ul', {'class': 'list__09f24__ynIEd'})\\\n",
    "    .find_next('li', {'class': 'y-css-1jp2syp'})\\\n",
    "    \n",
    "    \n",
    "    #Yorumlar kısmını çekme\n",
    "    for lis in soup_lis:\n",
    "        li = lis.find_next(\"div\", {'class': 'y-css-1iy1dwt'})\\\n",
    "            .find_next(\"div\", {'class': 'y-css-cluvhg'})\\\n",
    "            .find_all_next(\"p\", {'class': 'comment__09f24__D0cxf y-css-h9c2fl'})\n",
    "            \n",
    "        for l in li:\n",
    "            comments.append(l.text)\n",
    "    \n",
    "    #Kullanici adlarını çekme    \n",
    "    for lis in soup_lis:\n",
    "        li = lis.find_next(\"div\", {'class': 'y-css-1iy1dwt'})\\\n",
    "            .find_next(\"span\", {'class': 'y-css-w3ea6v'})\\\n",
    "            .find_all_next(\"a\", {\"class\": \"y-css-12ly5yx\"})\n",
    "            \n",
    "        for l in li:\n",
    "            if l.text != \"1 photo\":\n",
    "                userName.append(l.text)\n",
    "\n",
    "    #Kaç yıldız verdiklerini görürüz. Onları çekeriz.\n",
    "    for lis in soup_lis:\n",
    "        li = lis.find_next(\"div\", {'class': 'y-css-1iy1dwt'})\\\n",
    "            .find_next(\"div\", {'class': 'y-css-19pbem2'})\\\n",
    "            .find_next(\"span\", {'class': 'y-css-pw0opj'})\\\n",
    "            .find_all_next(\"div\", attrs={\"class\": 'y-css-9tnml4'})\n",
    "            \n",
    "            \n",
    "        for l in li:\n",
    "            #print(l['aria-label'])\n",
    "            rating.append(l['aria-label'])\n",
    "        \n",
    "        rating = rating[:10]\n",
    "\n",
    "    return comments, userName, rating"
   ]
  },
  {
   "cell_type": "code",
   "execution_count": 101,
   "metadata": {},
   "outputs": [],
   "source": [
    "comments, userName, rating = create_data()"
   ]
  },
  {
   "cell_type": "markdown",
   "metadata": {},
   "source": [
    "## Analysis The Data"
   ]
  },
  {
   "cell_type": "code",
   "execution_count": 102,
   "metadata": {},
   "outputs": [],
   "source": [
    "data = pd.DataFrame(userName, columns=[\"UserName\"])\n",
    "data[\"Review\"] = pd.DataFrame(comments, columns=[\"Review\"])\n",
    "data[\"Rating\"] = pd.DataFrame(rating, columns=[\"Rating\"])"
   ]
  },
  {
   "cell_type": "code",
   "execution_count": 103,
   "metadata": {},
   "outputs": [
    {
     "data": {
      "text/html": [
       "<div>\n",
       "<style scoped>\n",
       "    .dataframe tbody tr th:only-of-type {\n",
       "        vertical-align: middle;\n",
       "    }\n",
       "\n",
       "    .dataframe tbody tr th {\n",
       "        vertical-align: top;\n",
       "    }\n",
       "\n",
       "    .dataframe thead th {\n",
       "        text-align: right;\n",
       "    }\n",
       "</style>\n",
       "<table border=\"1\" class=\"dataframe\">\n",
       "  <thead>\n",
       "    <tr style=\"text-align: right;\">\n",
       "      <th></th>\n",
       "      <th>UserName</th>\n",
       "      <th>Review</th>\n",
       "      <th>Rating</th>\n",
       "    </tr>\n",
       "  </thead>\n",
       "  <tbody>\n",
       "    <tr>\n",
       "      <th>0</th>\n",
       "      <td>Maureen P.</td>\n",
       "      <td>Even an EV needs service from time to time. Ki...</td>\n",
       "      <td>5 star rating</td>\n",
       "    </tr>\n",
       "    <tr>\n",
       "      <th>1</th>\n",
       "      <td>Isis L.</td>\n",
       "      <td>I wasn't looking to buy a car as I was content...</td>\n",
       "      <td>5 star rating</td>\n",
       "    </tr>\n",
       "    <tr>\n",
       "      <th>2</th>\n",
       "      <td>Patrick H.</td>\n",
       "      <td>Worked with Julio and he was excellent from st...</td>\n",
       "      <td>5 star rating</td>\n",
       "    </tr>\n",
       "    <tr>\n",
       "      <th>3</th>\n",
       "      <td>Koichi D.</td>\n",
       "      <td>Been dealing with Kia Marin for years. Leased ...</td>\n",
       "      <td>5 star rating</td>\n",
       "    </tr>\n",
       "    <tr>\n",
       "      <th>4</th>\n",
       "      <td>Janessa B.</td>\n",
       "      <td>Been bringing my Kia k5 here for a couple of y...</td>\n",
       "      <td>5 star rating</td>\n",
       "    </tr>\n",
       "  </tbody>\n",
       "</table>\n",
       "</div>"
      ],
      "text/plain": [
       "     UserName                                             Review  \\\n",
       "0  Maureen P.  Even an EV needs service from time to time. Ki...   \n",
       "1     Isis L.  I wasn't looking to buy a car as I was content...   \n",
       "2  Patrick H.  Worked with Julio and he was excellent from st...   \n",
       "3   Koichi D.  Been dealing with Kia Marin for years. Leased ...   \n",
       "4  Janessa B.  Been bringing my Kia k5 here for a couple of y...   \n",
       "\n",
       "          Rating  \n",
       "0  5 star rating  \n",
       "1  5 star rating  \n",
       "2  5 star rating  \n",
       "3  5 star rating  \n",
       "4  5 star rating  "
      ]
     },
     "execution_count": 103,
     "metadata": {},
     "output_type": "execute_result"
    }
   ],
   "source": [
    "data.head()"
   ]
  },
  {
   "cell_type": "code",
   "execution_count": 104,
   "metadata": {},
   "outputs": [
    {
     "data": {
      "text/plain": [
       "10"
      ]
     },
     "execution_count": 104,
     "metadata": {},
     "output_type": "execute_result"
    }
   ],
   "source": [
    "len(data['Review'])"
   ]
  },
  {
   "cell_type": "code",
   "execution_count": 105,
   "metadata": {},
   "outputs": [],
   "source": [
    "data_word = pd.DataFrame(data[\"Review\"]) "
   ]
  },
  {
   "cell_type": "code",
   "execution_count": 106,
   "metadata": {},
   "outputs": [
    {
     "data": {
      "text/html": [
       "<div>\n",
       "<style scoped>\n",
       "    .dataframe tbody tr th:only-of-type {\n",
       "        vertical-align: middle;\n",
       "    }\n",
       "\n",
       "    .dataframe tbody tr th {\n",
       "        vertical-align: top;\n",
       "    }\n",
       "\n",
       "    .dataframe thead th {\n",
       "        text-align: right;\n",
       "    }\n",
       "</style>\n",
       "<table border=\"1\" class=\"dataframe\">\n",
       "  <thead>\n",
       "    <tr style=\"text-align: right;\">\n",
       "      <th></th>\n",
       "      <th>Review</th>\n",
       "    </tr>\n",
       "  </thead>\n",
       "  <tbody>\n",
       "    <tr>\n",
       "      <th>0</th>\n",
       "      <td>Even an EV needs service from time to time. Ki...</td>\n",
       "    </tr>\n",
       "    <tr>\n",
       "      <th>1</th>\n",
       "      <td>I wasn't looking to buy a car as I was content...</td>\n",
       "    </tr>\n",
       "    <tr>\n",
       "      <th>2</th>\n",
       "      <td>Worked with Julio and he was excellent from st...</td>\n",
       "    </tr>\n",
       "    <tr>\n",
       "      <th>3</th>\n",
       "      <td>Been dealing with Kia Marin for years. Leased ...</td>\n",
       "    </tr>\n",
       "    <tr>\n",
       "      <th>4</th>\n",
       "      <td>Been bringing my Kia k5 here for a couple of y...</td>\n",
       "    </tr>\n",
       "    <tr>\n",
       "      <th>5</th>\n",
       "      <td>Unprofessional sales team. They dismiss conver...</td>\n",
       "    </tr>\n",
       "    <tr>\n",
       "      <th>6</th>\n",
       "      <td>I bought a new Kia Sorento Hybrid from Kia of ...</td>\n",
       "    </tr>\n",
       "    <tr>\n",
       "      <th>7</th>\n",
       "      <td>I recently purchased a used car from this deal...</td>\n",
       "    </tr>\n",
       "    <tr>\n",
       "      <th>8</th>\n",
       "      <td>Best car buying experience.   Julio was awesom...</td>\n",
       "    </tr>\n",
       "    <tr>\n",
       "      <th>9</th>\n",
       "      <td>I usually only post reviews on Yelp when I hav...</td>\n",
       "    </tr>\n",
       "  </tbody>\n",
       "</table>\n",
       "</div>"
      ],
      "text/plain": [
       "                                              Review\n",
       "0  Even an EV needs service from time to time. Ki...\n",
       "1  I wasn't looking to buy a car as I was content...\n",
       "2  Worked with Julio and he was excellent from st...\n",
       "3  Been dealing with Kia Marin for years. Leased ...\n",
       "4  Been bringing my Kia k5 here for a couple of y...\n",
       "5  Unprofessional sales team. They dismiss conver...\n",
       "6  I bought a new Kia Sorento Hybrid from Kia of ...\n",
       "7  I recently purchased a used car from this deal...\n",
       "8  Best car buying experience.   Julio was awesom...\n",
       "9  I usually only post reviews on Yelp when I hav..."
      ]
     },
     "execution_count": 106,
     "metadata": {},
     "output_type": "execute_result"
    }
   ],
   "source": [
    "data_word"
   ]
  },
  {
   "cell_type": "code",
   "execution_count": 107,
   "metadata": {},
   "outputs": [],
   "source": [
    "data_word[\"Word_count\"] = data_word['Review'].apply(lambda x: len(x.split()))"
   ]
  },
  {
   "cell_type": "code",
   "execution_count": 108,
   "metadata": {},
   "outputs": [],
   "source": [
    "data_word[\"Char_count\"] = data_word['Review'].apply(lambda x: len(x))"
   ]
  },
  {
   "cell_type": "code",
   "execution_count": 109,
   "metadata": {},
   "outputs": [],
   "source": [
    "import nltk\n",
    "from nltk.corpus import stopwords"
   ]
  },
  {
   "cell_type": "code",
   "execution_count": 110,
   "metadata": {},
   "outputs": [],
   "source": [
    "stop_words = stopwords.words(\"english\")"
   ]
  },
  {
   "cell_type": "code",
   "execution_count": 111,
   "metadata": {},
   "outputs": [
    {
     "data": {
      "text/plain": [
       "179"
      ]
     },
     "execution_count": 111,
     "metadata": {},
     "output_type": "execute_result"
    }
   ],
   "source": [
    "len(stop_words)"
   ]
  },
  {
   "cell_type": "code",
   "execution_count": 112,
   "metadata": {},
   "outputs": [],
   "source": [
    "data_word[\"stopword_counter\"] = data_word[\"Review\"].apply(lambda x: len([word for word in x.split() if word.lower() in stop_words]))"
   ]
  },
  {
   "cell_type": "code",
   "execution_count": 113,
   "metadata": {},
   "outputs": [],
   "source": [
    "data_word[\"stopword_rate\"] = data_word[\"stopword_counter\"] / data_word[\"Word_count\"]"
   ]
  },
  {
   "cell_type": "code",
   "execution_count": 114,
   "metadata": {},
   "outputs": [
    {
     "data": {
      "text/html": [
       "<div>\n",
       "<style scoped>\n",
       "    .dataframe tbody tr th:only-of-type {\n",
       "        vertical-align: middle;\n",
       "    }\n",
       "\n",
       "    .dataframe tbody tr th {\n",
       "        vertical-align: top;\n",
       "    }\n",
       "\n",
       "    .dataframe thead th {\n",
       "        text-align: right;\n",
       "    }\n",
       "</style>\n",
       "<table border=\"1\" class=\"dataframe\">\n",
       "  <thead>\n",
       "    <tr style=\"text-align: right;\">\n",
       "      <th></th>\n",
       "      <th>UserName</th>\n",
       "      <th>Review</th>\n",
       "      <th>Rating</th>\n",
       "    </tr>\n",
       "  </thead>\n",
       "  <tbody>\n",
       "    <tr>\n",
       "      <th>0</th>\n",
       "      <td>Maureen P.</td>\n",
       "      <td>Even an EV needs service from time to time. Ki...</td>\n",
       "      <td>5 star rating</td>\n",
       "    </tr>\n",
       "    <tr>\n",
       "      <th>1</th>\n",
       "      <td>Isis L.</td>\n",
       "      <td>I wasn't looking to buy a car as I was content...</td>\n",
       "      <td>5 star rating</td>\n",
       "    </tr>\n",
       "    <tr>\n",
       "      <th>2</th>\n",
       "      <td>Patrick H.</td>\n",
       "      <td>Worked with Julio and he was excellent from st...</td>\n",
       "      <td>5 star rating</td>\n",
       "    </tr>\n",
       "    <tr>\n",
       "      <th>3</th>\n",
       "      <td>Koichi D.</td>\n",
       "      <td>Been dealing with Kia Marin for years. Leased ...</td>\n",
       "      <td>5 star rating</td>\n",
       "    </tr>\n",
       "    <tr>\n",
       "      <th>4</th>\n",
       "      <td>Janessa B.</td>\n",
       "      <td>Been bringing my Kia k5 here for a couple of y...</td>\n",
       "      <td>5 star rating</td>\n",
       "    </tr>\n",
       "  </tbody>\n",
       "</table>\n",
       "</div>"
      ],
      "text/plain": [
       "     UserName                                             Review  \\\n",
       "0  Maureen P.  Even an EV needs service from time to time. Ki...   \n",
       "1     Isis L.  I wasn't looking to buy a car as I was content...   \n",
       "2  Patrick H.  Worked with Julio and he was excellent from st...   \n",
       "3   Koichi D.  Been dealing with Kia Marin for years. Leased ...   \n",
       "4  Janessa B.  Been bringing my Kia k5 here for a couple of y...   \n",
       "\n",
       "          Rating  \n",
       "0  5 star rating  \n",
       "1  5 star rating  \n",
       "2  5 star rating  \n",
       "3  5 star rating  \n",
       "4  5 star rating  "
      ]
     },
     "execution_count": 114,
     "metadata": {},
     "output_type": "execute_result"
    }
   ],
   "source": [
    "data.head()"
   ]
  },
  {
   "cell_type": "code",
   "execution_count": 115,
   "metadata": {},
   "outputs": [
    {
     "data": {
      "text/html": [
       "<div>\n",
       "<style scoped>\n",
       "    .dataframe tbody tr th:only-of-type {\n",
       "        vertical-align: middle;\n",
       "    }\n",
       "\n",
       "    .dataframe tbody tr th {\n",
       "        vertical-align: top;\n",
       "    }\n",
       "\n",
       "    .dataframe thead th {\n",
       "        text-align: right;\n",
       "    }\n",
       "</style>\n",
       "<table border=\"1\" class=\"dataframe\">\n",
       "  <thead>\n",
       "    <tr style=\"text-align: right;\">\n",
       "      <th></th>\n",
       "      <th>Review</th>\n",
       "      <th>Word_count</th>\n",
       "      <th>Char_count</th>\n",
       "      <th>stopword_counter</th>\n",
       "      <th>stopword_rate</th>\n",
       "    </tr>\n",
       "  </thead>\n",
       "  <tbody>\n",
       "    <tr>\n",
       "      <th>0</th>\n",
       "      <td>Even an EV needs service from time to time. Ki...</td>\n",
       "      <td>172</td>\n",
       "      <td>948</td>\n",
       "      <td>76</td>\n",
       "      <td>0.441860</td>\n",
       "    </tr>\n",
       "    <tr>\n",
       "      <th>1</th>\n",
       "      <td>I wasn't looking to buy a car as I was content...</td>\n",
       "      <td>347</td>\n",
       "      <td>1691</td>\n",
       "      <td>164</td>\n",
       "      <td>0.472622</td>\n",
       "    </tr>\n",
       "    <tr>\n",
       "      <th>2</th>\n",
       "      <td>Worked with Julio and he was excellent from st...</td>\n",
       "      <td>89</td>\n",
       "      <td>511</td>\n",
       "      <td>44</td>\n",
       "      <td>0.494382</td>\n",
       "    </tr>\n",
       "    <tr>\n",
       "      <th>3</th>\n",
       "      <td>Been dealing with Kia Marin for years. Leased ...</td>\n",
       "      <td>84</td>\n",
       "      <td>473</td>\n",
       "      <td>36</td>\n",
       "      <td>0.428571</td>\n",
       "    </tr>\n",
       "    <tr>\n",
       "      <th>4</th>\n",
       "      <td>Been bringing my Kia k5 here for a couple of y...</td>\n",
       "      <td>91</td>\n",
       "      <td>473</td>\n",
       "      <td>47</td>\n",
       "      <td>0.516484</td>\n",
       "    </tr>\n",
       "    <tr>\n",
       "      <th>5</th>\n",
       "      <td>Unprofessional sales team. They dismiss conver...</td>\n",
       "      <td>53</td>\n",
       "      <td>355</td>\n",
       "      <td>22</td>\n",
       "      <td>0.415094</td>\n",
       "    </tr>\n",
       "    <tr>\n",
       "      <th>6</th>\n",
       "      <td>I bought a new Kia Sorento Hybrid from Kia of ...</td>\n",
       "      <td>110</td>\n",
       "      <td>564</td>\n",
       "      <td>57</td>\n",
       "      <td>0.518182</td>\n",
       "    </tr>\n",
       "    <tr>\n",
       "      <th>7</th>\n",
       "      <td>I recently purchased a used car from this deal...</td>\n",
       "      <td>136</td>\n",
       "      <td>758</td>\n",
       "      <td>65</td>\n",
       "      <td>0.477941</td>\n",
       "    </tr>\n",
       "    <tr>\n",
       "      <th>8</th>\n",
       "      <td>Best car buying experience.   Julio was awesom...</td>\n",
       "      <td>39</td>\n",
       "      <td>258</td>\n",
       "      <td>13</td>\n",
       "      <td>0.333333</td>\n",
       "    </tr>\n",
       "    <tr>\n",
       "      <th>9</th>\n",
       "      <td>I usually only post reviews on Yelp when I hav...</td>\n",
       "      <td>186</td>\n",
       "      <td>998</td>\n",
       "      <td>88</td>\n",
       "      <td>0.473118</td>\n",
       "    </tr>\n",
       "  </tbody>\n",
       "</table>\n",
       "</div>"
      ],
      "text/plain": [
       "                                              Review  Word_count  Char_count  \\\n",
       "0  Even an EV needs service from time to time. Ki...         172         948   \n",
       "1  I wasn't looking to buy a car as I was content...         347        1691   \n",
       "2  Worked with Julio and he was excellent from st...          89         511   \n",
       "3  Been dealing with Kia Marin for years. Leased ...          84         473   \n",
       "4  Been bringing my Kia k5 here for a couple of y...          91         473   \n",
       "5  Unprofessional sales team. They dismiss conver...          53         355   \n",
       "6  I bought a new Kia Sorento Hybrid from Kia of ...         110         564   \n",
       "7  I recently purchased a used car from this deal...         136         758   \n",
       "8  Best car buying experience.   Julio was awesom...          39         258   \n",
       "9  I usually only post reviews on Yelp when I hav...         186         998   \n",
       "\n",
       "   stopword_counter  stopword_rate  \n",
       "0                76       0.441860  \n",
       "1               164       0.472622  \n",
       "2                44       0.494382  \n",
       "3                36       0.428571  \n",
       "4                47       0.516484  \n",
       "5                22       0.415094  \n",
       "6                57       0.518182  \n",
       "7                65       0.477941  \n",
       "8                13       0.333333  \n",
       "9                88       0.473118  "
      ]
     },
     "execution_count": 115,
     "metadata": {},
     "output_type": "execute_result"
    }
   ],
   "source": [
    "data_word"
   ]
  },
  {
   "cell_type": "code",
   "execution_count": 116,
   "metadata": {},
   "outputs": [
    {
     "data": {
      "text/html": [
       "<div>\n",
       "<style scoped>\n",
       "    .dataframe tbody tr th:only-of-type {\n",
       "        vertical-align: middle;\n",
       "    }\n",
       "\n",
       "    .dataframe tbody tr th {\n",
       "        vertical-align: top;\n",
       "    }\n",
       "\n",
       "    .dataframe thead th {\n",
       "        text-align: right;\n",
       "    }\n",
       "</style>\n",
       "<table border=\"1\" class=\"dataframe\">\n",
       "  <thead>\n",
       "    <tr style=\"text-align: right;\">\n",
       "      <th></th>\n",
       "      <th>Review</th>\n",
       "      <th>Word_count</th>\n",
       "      <th>Char_count</th>\n",
       "      <th>stopword_counter</th>\n",
       "      <th>stopword_rate</th>\n",
       "    </tr>\n",
       "  </thead>\n",
       "  <tbody>\n",
       "    <tr>\n",
       "      <th>8</th>\n",
       "      <td>Best car buying experience.   Julio was awesom...</td>\n",
       "      <td>39</td>\n",
       "      <td>258</td>\n",
       "      <td>13</td>\n",
       "      <td>0.333333</td>\n",
       "    </tr>\n",
       "    <tr>\n",
       "      <th>5</th>\n",
       "      <td>Unprofessional sales team. They dismiss conver...</td>\n",
       "      <td>53</td>\n",
       "      <td>355</td>\n",
       "      <td>22</td>\n",
       "      <td>0.415094</td>\n",
       "    </tr>\n",
       "    <tr>\n",
       "      <th>3</th>\n",
       "      <td>Been dealing with Kia Marin for years. Leased ...</td>\n",
       "      <td>84</td>\n",
       "      <td>473</td>\n",
       "      <td>36</td>\n",
       "      <td>0.428571</td>\n",
       "    </tr>\n",
       "    <tr>\n",
       "      <th>0</th>\n",
       "      <td>Even an EV needs service from time to time. Ki...</td>\n",
       "      <td>172</td>\n",
       "      <td>948</td>\n",
       "      <td>76</td>\n",
       "      <td>0.441860</td>\n",
       "    </tr>\n",
       "    <tr>\n",
       "      <th>1</th>\n",
       "      <td>I wasn't looking to buy a car as I was content...</td>\n",
       "      <td>347</td>\n",
       "      <td>1691</td>\n",
       "      <td>164</td>\n",
       "      <td>0.472622</td>\n",
       "    </tr>\n",
       "    <tr>\n",
       "      <th>9</th>\n",
       "      <td>I usually only post reviews on Yelp when I hav...</td>\n",
       "      <td>186</td>\n",
       "      <td>998</td>\n",
       "      <td>88</td>\n",
       "      <td>0.473118</td>\n",
       "    </tr>\n",
       "    <tr>\n",
       "      <th>7</th>\n",
       "      <td>I recently purchased a used car from this deal...</td>\n",
       "      <td>136</td>\n",
       "      <td>758</td>\n",
       "      <td>65</td>\n",
       "      <td>0.477941</td>\n",
       "    </tr>\n",
       "    <tr>\n",
       "      <th>2</th>\n",
       "      <td>Worked with Julio and he was excellent from st...</td>\n",
       "      <td>89</td>\n",
       "      <td>511</td>\n",
       "      <td>44</td>\n",
       "      <td>0.494382</td>\n",
       "    </tr>\n",
       "    <tr>\n",
       "      <th>4</th>\n",
       "      <td>Been bringing my Kia k5 here for a couple of y...</td>\n",
       "      <td>91</td>\n",
       "      <td>473</td>\n",
       "      <td>47</td>\n",
       "      <td>0.516484</td>\n",
       "    </tr>\n",
       "    <tr>\n",
       "      <th>6</th>\n",
       "      <td>I bought a new Kia Sorento Hybrid from Kia of ...</td>\n",
       "      <td>110</td>\n",
       "      <td>564</td>\n",
       "      <td>57</td>\n",
       "      <td>0.518182</td>\n",
       "    </tr>\n",
       "  </tbody>\n",
       "</table>\n",
       "</div>"
      ],
      "text/plain": [
       "                                              Review  Word_count  Char_count  \\\n",
       "8  Best car buying experience.   Julio was awesom...          39         258   \n",
       "5  Unprofessional sales team. They dismiss conver...          53         355   \n",
       "3  Been dealing with Kia Marin for years. Leased ...          84         473   \n",
       "0  Even an EV needs service from time to time. Ki...         172         948   \n",
       "1  I wasn't looking to buy a car as I was content...         347        1691   \n",
       "9  I usually only post reviews on Yelp when I hav...         186         998   \n",
       "7  I recently purchased a used car from this deal...         136         758   \n",
       "2  Worked with Julio and he was excellent from st...          89         511   \n",
       "4  Been bringing my Kia k5 here for a couple of y...          91         473   \n",
       "6  I bought a new Kia Sorento Hybrid from Kia of ...         110         564   \n",
       "\n",
       "   stopword_counter  stopword_rate  \n",
       "8                13       0.333333  \n",
       "5                22       0.415094  \n",
       "3                36       0.428571  \n",
       "0                76       0.441860  \n",
       "1               164       0.472622  \n",
       "9                88       0.473118  \n",
       "7                65       0.477941  \n",
       "2                44       0.494382  \n",
       "4                47       0.516484  \n",
       "6                57       0.518182  "
      ]
     },
     "execution_count": 116,
     "metadata": {},
     "output_type": "execute_result"
    }
   ],
   "source": [
    "data_word.sort_values(by = \"stopword_rate\")"
   ]
  },
  {
   "cell_type": "code",
   "execution_count": 117,
   "metadata": {},
   "outputs": [
    {
     "data": {
      "text/html": [
       "<div>\n",
       "<style scoped>\n",
       "    .dataframe tbody tr th:only-of-type {\n",
       "        vertical-align: middle;\n",
       "    }\n",
       "\n",
       "    .dataframe tbody tr th {\n",
       "        vertical-align: top;\n",
       "    }\n",
       "\n",
       "    .dataframe thead th {\n",
       "        text-align: right;\n",
       "    }\n",
       "</style>\n",
       "<table border=\"1\" class=\"dataframe\">\n",
       "  <thead>\n",
       "    <tr style=\"text-align: right;\">\n",
       "      <th></th>\n",
       "      <th>Word_count</th>\n",
       "      <th>Char_count</th>\n",
       "      <th>stopword_counter</th>\n",
       "      <th>stopword_rate</th>\n",
       "    </tr>\n",
       "  </thead>\n",
       "  <tbody>\n",
       "    <tr>\n",
       "      <th>count</th>\n",
       "      <td>10.000000</td>\n",
       "      <td>10.000000</td>\n",
       "      <td>10.000000</td>\n",
       "      <td>10.000000</td>\n",
       "    </tr>\n",
       "    <tr>\n",
       "      <th>mean</th>\n",
       "      <td>130.700000</td>\n",
       "      <td>702.900000</td>\n",
       "      <td>61.200000</td>\n",
       "      <td>0.457159</td>\n",
       "    </tr>\n",
       "    <tr>\n",
       "      <th>std</th>\n",
       "      <td>89.410477</td>\n",
       "      <td>422.602111</td>\n",
       "      <td>42.855831</td>\n",
       "      <td>0.055486</td>\n",
       "    </tr>\n",
       "    <tr>\n",
       "      <th>min</th>\n",
       "      <td>39.000000</td>\n",
       "      <td>258.000000</td>\n",
       "      <td>13.000000</td>\n",
       "      <td>0.333333</td>\n",
       "    </tr>\n",
       "    <tr>\n",
       "      <th>25%</th>\n",
       "      <td>85.250000</td>\n",
       "      <td>473.000000</td>\n",
       "      <td>38.000000</td>\n",
       "      <td>0.431894</td>\n",
       "    </tr>\n",
       "    <tr>\n",
       "      <th>50%</th>\n",
       "      <td>100.500000</td>\n",
       "      <td>537.500000</td>\n",
       "      <td>52.000000</td>\n",
       "      <td>0.472870</td>\n",
       "    </tr>\n",
       "    <tr>\n",
       "      <th>75%</th>\n",
       "      <td>163.000000</td>\n",
       "      <td>900.500000</td>\n",
       "      <td>73.250000</td>\n",
       "      <td>0.490272</td>\n",
       "    </tr>\n",
       "    <tr>\n",
       "      <th>max</th>\n",
       "      <td>347.000000</td>\n",
       "      <td>1691.000000</td>\n",
       "      <td>164.000000</td>\n",
       "      <td>0.518182</td>\n",
       "    </tr>\n",
       "  </tbody>\n",
       "</table>\n",
       "</div>"
      ],
      "text/plain": [
       "       Word_count   Char_count  stopword_counter  stopword_rate\n",
       "count   10.000000    10.000000         10.000000      10.000000\n",
       "mean   130.700000   702.900000         61.200000       0.457159\n",
       "std     89.410477   422.602111         42.855831       0.055486\n",
       "min     39.000000   258.000000         13.000000       0.333333\n",
       "25%     85.250000   473.000000         38.000000       0.431894\n",
       "50%    100.500000   537.500000         52.000000       0.472870\n",
       "75%    163.000000   900.500000         73.250000       0.490272\n",
       "max    347.000000  1691.000000        164.000000       0.518182"
      ]
     },
     "execution_count": 117,
     "metadata": {},
     "output_type": "execute_result"
    }
   ],
   "source": [
    "data_word.describe()"
   ]
  },
  {
   "cell_type": "markdown",
   "metadata": {},
   "source": [
    "## Data Cleaning"
   ]
  },
  {
   "cell_type": "code",
   "execution_count": 118,
   "metadata": {},
   "outputs": [],
   "source": [
    "data_word[\"lowercase\"] = data_word[\"Review\"].apply(lambda x: \" \".join(word.lower() for word in x.split()))\n",
    "data_word[\"punction\"] = data_word[\"lowercase\"].str.replace(\"[^\\w\\s]\", \"\")\n",
    "data_word[\"stopword\"] = data_word[\"punction\"].apply(lambda x: \" \".join(word for word in x.split() if word not in stop_words))"
   ]
  },
  {
   "cell_type": "code",
   "execution_count": 119,
   "metadata": {},
   "outputs": [
    {
     "data": {
      "text/html": [
       "<div>\n",
       "<style scoped>\n",
       "    .dataframe tbody tr th:only-of-type {\n",
       "        vertical-align: middle;\n",
       "    }\n",
       "\n",
       "    .dataframe tbody tr th {\n",
       "        vertical-align: top;\n",
       "    }\n",
       "\n",
       "    .dataframe thead th {\n",
       "        text-align: right;\n",
       "    }\n",
       "</style>\n",
       "<table border=\"1\" class=\"dataframe\">\n",
       "  <thead>\n",
       "    <tr style=\"text-align: right;\">\n",
       "      <th></th>\n",
       "      <th>Review</th>\n",
       "      <th>Word_count</th>\n",
       "      <th>Char_count</th>\n",
       "      <th>stopword_counter</th>\n",
       "      <th>stopword_rate</th>\n",
       "      <th>lowercase</th>\n",
       "      <th>punction</th>\n",
       "      <th>stopword</th>\n",
       "    </tr>\n",
       "  </thead>\n",
       "  <tbody>\n",
       "    <tr>\n",
       "      <th>0</th>\n",
       "      <td>Even an EV needs service from time to time. Ki...</td>\n",
       "      <td>172</td>\n",
       "      <td>948</td>\n",
       "      <td>76</td>\n",
       "      <td>0.441860</td>\n",
       "      <td>even an ev needs service from time to time. ki...</td>\n",
       "      <td>even an ev needs service from time to time. ki...</td>\n",
       "      <td>even ev needs service time time. kia marin hit...</td>\n",
       "    </tr>\n",
       "    <tr>\n",
       "      <th>1</th>\n",
       "      <td>I wasn't looking to buy a car as I was content...</td>\n",
       "      <td>347</td>\n",
       "      <td>1691</td>\n",
       "      <td>164</td>\n",
       "      <td>0.472622</td>\n",
       "      <td>i wasn't looking to buy a car as i was content...</td>\n",
       "      <td>i wasn't looking to buy a car as i was content...</td>\n",
       "      <td>looking buy car content ny 2007 toyota yaris a...</td>\n",
       "    </tr>\n",
       "    <tr>\n",
       "      <th>2</th>\n",
       "      <td>Worked with Julio and he was excellent from st...</td>\n",
       "      <td>89</td>\n",
       "      <td>511</td>\n",
       "      <td>44</td>\n",
       "      <td>0.494382</td>\n",
       "      <td>worked with julio and he was excellent from st...</td>\n",
       "      <td>worked with julio and he was excellent from st...</td>\n",
       "      <td>worked julio excellent start finish. knowledge...</td>\n",
       "    </tr>\n",
       "    <tr>\n",
       "      <th>3</th>\n",
       "      <td>Been dealing with Kia Marin for years. Leased ...</td>\n",
       "      <td>84</td>\n",
       "      <td>473</td>\n",
       "      <td>36</td>\n",
       "      <td>0.428571</td>\n",
       "      <td>been dealing with kia marin for years. leased ...</td>\n",
       "      <td>been dealing with kia marin for years. leased ...</td>\n",
       "      <td>dealing kia marin years. leased many kia's yea...</td>\n",
       "    </tr>\n",
       "    <tr>\n",
       "      <th>4</th>\n",
       "      <td>Been bringing my Kia k5 here for a couple of y...</td>\n",
       "      <td>91</td>\n",
       "      <td>473</td>\n",
       "      <td>47</td>\n",
       "      <td>0.516484</td>\n",
       "      <td>been bringing my kia k5 here for a couple of y...</td>\n",
       "      <td>been bringing my kia k5 here for a couple of y...</td>\n",
       "      <td>bringing kia k5 couple years must say, service...</td>\n",
       "    </tr>\n",
       "  </tbody>\n",
       "</table>\n",
       "</div>"
      ],
      "text/plain": [
       "                                              Review  Word_count  Char_count  \\\n",
       "0  Even an EV needs service from time to time. Ki...         172         948   \n",
       "1  I wasn't looking to buy a car as I was content...         347        1691   \n",
       "2  Worked with Julio and he was excellent from st...          89         511   \n",
       "3  Been dealing with Kia Marin for years. Leased ...          84         473   \n",
       "4  Been bringing my Kia k5 here for a couple of y...          91         473   \n",
       "\n",
       "   stopword_counter  stopword_rate  \\\n",
       "0                76       0.441860   \n",
       "1               164       0.472622   \n",
       "2                44       0.494382   \n",
       "3                36       0.428571   \n",
       "4                47       0.516484   \n",
       "\n",
       "                                           lowercase  \\\n",
       "0  even an ev needs service from time to time. ki...   \n",
       "1  i wasn't looking to buy a car as i was content...   \n",
       "2  worked with julio and he was excellent from st...   \n",
       "3  been dealing with kia marin for years. leased ...   \n",
       "4  been bringing my kia k5 here for a couple of y...   \n",
       "\n",
       "                                            punction  \\\n",
       "0  even an ev needs service from time to time. ki...   \n",
       "1  i wasn't looking to buy a car as i was content...   \n",
       "2  worked with julio and he was excellent from st...   \n",
       "3  been dealing with kia marin for years. leased ...   \n",
       "4  been bringing my kia k5 here for a couple of y...   \n",
       "\n",
       "                                            stopword  \n",
       "0  even ev needs service time time. kia marin hit...  \n",
       "1  looking buy car content ny 2007 toyota yaris a...  \n",
       "2  worked julio excellent start finish. knowledge...  \n",
       "3  dealing kia marin years. leased many kia's yea...  \n",
       "4  bringing kia k5 couple years must say, service...  "
      ]
     },
     "execution_count": 119,
     "metadata": {},
     "output_type": "execute_result"
    }
   ],
   "source": [
    "data_word.head()"
   ]
  },
  {
   "cell_type": "code",
   "execution_count": 120,
   "metadata": {},
   "outputs": [
    {
     "data": {
      "text/plain": [
       "kia           15\n",
       "car           14\n",
       "service        8\n",
       "experience     6\n",
       "time           6\n",
       "key            6\n",
       "hugh           5\n",
       "one            5\n",
       "used           4\n",
       "call           4\n",
       "made           4\n",
       "many           4\n",
       "going          4\n",
       "new            4\n",
       "ev             4\n",
       "within         3\n",
       "buying         3\n",
       "car.           3\n",
       "got            3\n",
       "help           3\n",
       "Name: count, dtype: int64"
      ]
     },
     "execution_count": 120,
     "metadata": {},
     "output_type": "execute_result"
    }
   ],
   "source": [
    "pd.Series(\"\".join(data_word[\"stopword\"]).split()).value_counts()[:20]"
   ]
  },
  {
   "cell_type": "markdown",
   "metadata": {},
   "source": [
    "## Lemmatization"
   ]
  },
  {
   "cell_type": "code",
   "execution_count": 121,
   "metadata": {},
   "outputs": [],
   "source": [
    "data_word[\"lemmatize\"] = data_word[\"stopword\"].apply(lambda x: \" \".join(Word(word).lemmatize() for word in x.split()))"
   ]
  },
  {
   "cell_type": "markdown",
   "metadata": {},
   "source": [
    "## Sentiment Analysis"
   ]
  },
  {
   "cell_type": "code",
   "execution_count": 122,
   "metadata": {},
   "outputs": [],
   "source": [
    "data_word[\"polarity\"] = data_word[\"lemmatize\"].apply(lambda x: TextBlob(x).sentiment[0])\n",
    "data_word[\"subjectivity\"] = data_word[\"lemmatize\"].apply(lambda x: TextBlob(x).sentiment[1])"
   ]
  },
  {
   "cell_type": "code",
   "execution_count": 123,
   "metadata": {},
   "outputs": [
    {
     "data": {
      "text/html": [
       "<div>\n",
       "<style scoped>\n",
       "    .dataframe tbody tr th:only-of-type {\n",
       "        vertical-align: middle;\n",
       "    }\n",
       "\n",
       "    .dataframe tbody tr th {\n",
       "        vertical-align: top;\n",
       "    }\n",
       "\n",
       "    .dataframe thead th {\n",
       "        text-align: right;\n",
       "    }\n",
       "</style>\n",
       "<table border=\"1\" class=\"dataframe\">\n",
       "  <thead>\n",
       "    <tr style=\"text-align: right;\">\n",
       "      <th></th>\n",
       "      <th>Review</th>\n",
       "      <th>Word_count</th>\n",
       "      <th>Char_count</th>\n",
       "      <th>stopword_counter</th>\n",
       "      <th>stopword_rate</th>\n",
       "      <th>lowercase</th>\n",
       "      <th>punction</th>\n",
       "      <th>stopword</th>\n",
       "      <th>lemmatize</th>\n",
       "      <th>polarity</th>\n",
       "      <th>subjectivity</th>\n",
       "    </tr>\n",
       "  </thead>\n",
       "  <tbody>\n",
       "    <tr>\n",
       "      <th>0</th>\n",
       "      <td>Even an EV needs service from time to time. Ki...</td>\n",
       "      <td>172</td>\n",
       "      <td>948</td>\n",
       "      <td>76</td>\n",
       "      <td>0.441860</td>\n",
       "      <td>even an ev needs service from time to time. ki...</td>\n",
       "      <td>even an ev needs service from time to time. ki...</td>\n",
       "      <td>even ev needs service time time. kia marin hit...</td>\n",
       "      <td>even ev need service time time. kia marin hit ...</td>\n",
       "      <td>0.394444</td>\n",
       "      <td>0.669306</td>\n",
       "    </tr>\n",
       "    <tr>\n",
       "      <th>1</th>\n",
       "      <td>I wasn't looking to buy a car as I was content...</td>\n",
       "      <td>347</td>\n",
       "      <td>1691</td>\n",
       "      <td>164</td>\n",
       "      <td>0.472622</td>\n",
       "      <td>i wasn't looking to buy a car as i was content...</td>\n",
       "      <td>i wasn't looking to buy a car as i was content...</td>\n",
       "      <td>looking buy car content ny 2007 toyota yaris a...</td>\n",
       "      <td>looking buy car content ny 2007 toyota yaris a...</td>\n",
       "      <td>0.318008</td>\n",
       "      <td>0.611127</td>\n",
       "    </tr>\n",
       "    <tr>\n",
       "      <th>2</th>\n",
       "      <td>Worked with Julio and he was excellent from st...</td>\n",
       "      <td>89</td>\n",
       "      <td>511</td>\n",
       "      <td>44</td>\n",
       "      <td>0.494382</td>\n",
       "      <td>worked with julio and he was excellent from st...</td>\n",
       "      <td>worked with julio and he was excellent from st...</td>\n",
       "      <td>worked julio excellent start finish. knowledge...</td>\n",
       "      <td>worked julio excellent start finish. knowledge...</td>\n",
       "      <td>0.475000</td>\n",
       "      <td>0.665625</td>\n",
       "    </tr>\n",
       "    <tr>\n",
       "      <th>3</th>\n",
       "      <td>Been dealing with Kia Marin for years. Leased ...</td>\n",
       "      <td>84</td>\n",
       "      <td>473</td>\n",
       "      <td>36</td>\n",
       "      <td>0.428571</td>\n",
       "      <td>been dealing with kia marin for years. leased ...</td>\n",
       "      <td>been dealing with kia marin for years. leased ...</td>\n",
       "      <td>dealing kia marin years. leased many kia's yea...</td>\n",
       "      <td>dealing kia marin years. leased many kia's yea...</td>\n",
       "      <td>0.307589</td>\n",
       "      <td>0.606200</td>\n",
       "    </tr>\n",
       "    <tr>\n",
       "      <th>4</th>\n",
       "      <td>Been bringing my Kia k5 here for a couple of y...</td>\n",
       "      <td>91</td>\n",
       "      <td>473</td>\n",
       "      <td>47</td>\n",
       "      <td>0.516484</td>\n",
       "      <td>been bringing my kia k5 here for a couple of y...</td>\n",
       "      <td>been bringing my kia k5 here for a couple of y...</td>\n",
       "      <td>bringing kia k5 couple years must say, service...</td>\n",
       "      <td>bringing kia k5 couple year must say, service ...</td>\n",
       "      <td>0.313542</td>\n",
       "      <td>0.515625</td>\n",
       "    </tr>\n",
       "  </tbody>\n",
       "</table>\n",
       "</div>"
      ],
      "text/plain": [
       "                                              Review  Word_count  Char_count  \\\n",
       "0  Even an EV needs service from time to time. Ki...         172         948   \n",
       "1  I wasn't looking to buy a car as I was content...         347        1691   \n",
       "2  Worked with Julio and he was excellent from st...          89         511   \n",
       "3  Been dealing with Kia Marin for years. Leased ...          84         473   \n",
       "4  Been bringing my Kia k5 here for a couple of y...          91         473   \n",
       "\n",
       "   stopword_counter  stopword_rate  \\\n",
       "0                76       0.441860   \n",
       "1               164       0.472622   \n",
       "2                44       0.494382   \n",
       "3                36       0.428571   \n",
       "4                47       0.516484   \n",
       "\n",
       "                                           lowercase  \\\n",
       "0  even an ev needs service from time to time. ki...   \n",
       "1  i wasn't looking to buy a car as i was content...   \n",
       "2  worked with julio and he was excellent from st...   \n",
       "3  been dealing with kia marin for years. leased ...   \n",
       "4  been bringing my kia k5 here for a couple of y...   \n",
       "\n",
       "                                            punction  \\\n",
       "0  even an ev needs service from time to time. ki...   \n",
       "1  i wasn't looking to buy a car as i was content...   \n",
       "2  worked with julio and he was excellent from st...   \n",
       "3  been dealing with kia marin for years. leased ...   \n",
       "4  been bringing my kia k5 here for a couple of y...   \n",
       "\n",
       "                                            stopword  \\\n",
       "0  even ev needs service time time. kia marin hit...   \n",
       "1  looking buy car content ny 2007 toyota yaris a...   \n",
       "2  worked julio excellent start finish. knowledge...   \n",
       "3  dealing kia marin years. leased many kia's yea...   \n",
       "4  bringing kia k5 couple years must say, service...   \n",
       "\n",
       "                                           lemmatize  polarity  subjectivity  \n",
       "0  even ev need service time time. kia marin hit ...  0.394444      0.669306  \n",
       "1  looking buy car content ny 2007 toyota yaris a...  0.318008      0.611127  \n",
       "2  worked julio excellent start finish. knowledge...  0.475000      0.665625  \n",
       "3  dealing kia marin years. leased many kia's yea...  0.307589      0.606200  \n",
       "4  bringing kia k5 couple year must say, service ...  0.313542      0.515625  "
      ]
     },
     "execution_count": 123,
     "metadata": {},
     "output_type": "execute_result"
    }
   ],
   "source": [
    "data_word.head()"
   ]
  },
  {
   "cell_type": "code",
   "execution_count": 124,
   "metadata": {},
   "outputs": [
    {
     "data": {
      "text/plain": [
       "Index(['Review', 'Word_count', 'Char_count', 'stopword_counter',\n",
       "       'stopword_rate', 'lowercase', 'punction', 'stopword', 'lemmatize',\n",
       "       'polarity', 'subjectivity'],\n",
       "      dtype='object')"
      ]
     },
     "execution_count": 124,
     "metadata": {},
     "output_type": "execute_result"
    }
   ],
   "source": [
    "data_word.columns"
   ]
  },
  {
   "cell_type": "code",
   "execution_count": 125,
   "metadata": {},
   "outputs": [],
   "source": [
    "data_word.drop(['lowercase', 'punction', 'stopword', 'lemmatize'], axis=1, inplace=True)"
   ]
  },
  {
   "cell_type": "code",
   "execution_count": 126,
   "metadata": {},
   "outputs": [
    {
     "data": {
      "text/html": [
       "<div>\n",
       "<style scoped>\n",
       "    .dataframe tbody tr th:only-of-type {\n",
       "        vertical-align: middle;\n",
       "    }\n",
       "\n",
       "    .dataframe tbody tr th {\n",
       "        vertical-align: top;\n",
       "    }\n",
       "\n",
       "    .dataframe thead th {\n",
       "        text-align: right;\n",
       "    }\n",
       "</style>\n",
       "<table border=\"1\" class=\"dataframe\">\n",
       "  <thead>\n",
       "    <tr style=\"text-align: right;\">\n",
       "      <th></th>\n",
       "      <th>Review</th>\n",
       "      <th>Word_count</th>\n",
       "      <th>Char_count</th>\n",
       "      <th>stopword_counter</th>\n",
       "      <th>stopword_rate</th>\n",
       "      <th>polarity</th>\n",
       "      <th>subjectivity</th>\n",
       "    </tr>\n",
       "  </thead>\n",
       "  <tbody>\n",
       "    <tr>\n",
       "      <th>0</th>\n",
       "      <td>Even an EV needs service from time to time. Ki...</td>\n",
       "      <td>172</td>\n",
       "      <td>948</td>\n",
       "      <td>76</td>\n",
       "      <td>0.441860</td>\n",
       "      <td>0.394444</td>\n",
       "      <td>0.669306</td>\n",
       "    </tr>\n",
       "    <tr>\n",
       "      <th>1</th>\n",
       "      <td>I wasn't looking to buy a car as I was content...</td>\n",
       "      <td>347</td>\n",
       "      <td>1691</td>\n",
       "      <td>164</td>\n",
       "      <td>0.472622</td>\n",
       "      <td>0.318008</td>\n",
       "      <td>0.611127</td>\n",
       "    </tr>\n",
       "    <tr>\n",
       "      <th>2</th>\n",
       "      <td>Worked with Julio and he was excellent from st...</td>\n",
       "      <td>89</td>\n",
       "      <td>511</td>\n",
       "      <td>44</td>\n",
       "      <td>0.494382</td>\n",
       "      <td>0.475000</td>\n",
       "      <td>0.665625</td>\n",
       "    </tr>\n",
       "    <tr>\n",
       "      <th>3</th>\n",
       "      <td>Been dealing with Kia Marin for years. Leased ...</td>\n",
       "      <td>84</td>\n",
       "      <td>473</td>\n",
       "      <td>36</td>\n",
       "      <td>0.428571</td>\n",
       "      <td>0.307589</td>\n",
       "      <td>0.606200</td>\n",
       "    </tr>\n",
       "    <tr>\n",
       "      <th>4</th>\n",
       "      <td>Been bringing my Kia k5 here for a couple of y...</td>\n",
       "      <td>91</td>\n",
       "      <td>473</td>\n",
       "      <td>47</td>\n",
       "      <td>0.516484</td>\n",
       "      <td>0.313542</td>\n",
       "      <td>0.515625</td>\n",
       "    </tr>\n",
       "  </tbody>\n",
       "</table>\n",
       "</div>"
      ],
      "text/plain": [
       "                                              Review  Word_count  Char_count  \\\n",
       "0  Even an EV needs service from time to time. Ki...         172         948   \n",
       "1  I wasn't looking to buy a car as I was content...         347        1691   \n",
       "2  Worked with Julio and he was excellent from st...          89         511   \n",
       "3  Been dealing with Kia Marin for years. Leased ...          84         473   \n",
       "4  Been bringing my Kia k5 here for a couple of y...          91         473   \n",
       "\n",
       "   stopword_counter  stopword_rate  polarity  subjectivity  \n",
       "0                76       0.441860  0.394444      0.669306  \n",
       "1               164       0.472622  0.318008      0.611127  \n",
       "2                44       0.494382  0.475000      0.665625  \n",
       "3                36       0.428571  0.307589      0.606200  \n",
       "4                47       0.516484  0.313542      0.515625  "
      ]
     },
     "execution_count": 126,
     "metadata": {},
     "output_type": "execute_result"
    }
   ],
   "source": [
    "data_word.head()"
   ]
  },
  {
   "cell_type": "code",
   "execution_count": 127,
   "metadata": {},
   "outputs": [
    {
     "data": {
      "text/html": [
       "<div>\n",
       "<style scoped>\n",
       "    .dataframe tbody tr th:only-of-type {\n",
       "        vertical-align: middle;\n",
       "    }\n",
       "\n",
       "    .dataframe tbody tr th {\n",
       "        vertical-align: top;\n",
       "    }\n",
       "\n",
       "    .dataframe thead th {\n",
       "        text-align: right;\n",
       "    }\n",
       "</style>\n",
       "<table border=\"1\" class=\"dataframe\">\n",
       "  <thead>\n",
       "    <tr style=\"text-align: right;\">\n",
       "      <th></th>\n",
       "      <th>Review</th>\n",
       "      <th>Word_count</th>\n",
       "      <th>Char_count</th>\n",
       "      <th>stopword_counter</th>\n",
       "      <th>stopword_rate</th>\n",
       "      <th>polarity</th>\n",
       "      <th>subjectivity</th>\n",
       "    </tr>\n",
       "  </thead>\n",
       "  <tbody>\n",
       "    <tr>\n",
       "      <th>9</th>\n",
       "      <td>I usually only post reviews on Yelp when I hav...</td>\n",
       "      <td>186</td>\n",
       "      <td>998</td>\n",
       "      <td>88</td>\n",
       "      <td>0.473118</td>\n",
       "      <td>0.008117</td>\n",
       "      <td>0.539881</td>\n",
       "    </tr>\n",
       "    <tr>\n",
       "      <th>5</th>\n",
       "      <td>Unprofessional sales team. They dismiss conver...</td>\n",
       "      <td>53</td>\n",
       "      <td>355</td>\n",
       "      <td>22</td>\n",
       "      <td>0.415094</td>\n",
       "      <td>0.016667</td>\n",
       "      <td>0.483333</td>\n",
       "    </tr>\n",
       "    <tr>\n",
       "      <th>7</th>\n",
       "      <td>I recently purchased a used car from this deal...</td>\n",
       "      <td>136</td>\n",
       "      <td>758</td>\n",
       "      <td>65</td>\n",
       "      <td>0.477941</td>\n",
       "      <td>0.135714</td>\n",
       "      <td>0.602778</td>\n",
       "    </tr>\n",
       "    <tr>\n",
       "      <th>6</th>\n",
       "      <td>I bought a new Kia Sorento Hybrid from Kia of ...</td>\n",
       "      <td>110</td>\n",
       "      <td>564</td>\n",
       "      <td>57</td>\n",
       "      <td>0.518182</td>\n",
       "      <td>0.275118</td>\n",
       "      <td>0.535458</td>\n",
       "    </tr>\n",
       "    <tr>\n",
       "      <th>3</th>\n",
       "      <td>Been dealing with Kia Marin for years. Leased ...</td>\n",
       "      <td>84</td>\n",
       "      <td>473</td>\n",
       "      <td>36</td>\n",
       "      <td>0.428571</td>\n",
       "      <td>0.307589</td>\n",
       "      <td>0.606200</td>\n",
       "    </tr>\n",
       "    <tr>\n",
       "      <th>4</th>\n",
       "      <td>Been bringing my Kia k5 here for a couple of y...</td>\n",
       "      <td>91</td>\n",
       "      <td>473</td>\n",
       "      <td>47</td>\n",
       "      <td>0.516484</td>\n",
       "      <td>0.313542</td>\n",
       "      <td>0.515625</td>\n",
       "    </tr>\n",
       "    <tr>\n",
       "      <th>1</th>\n",
       "      <td>I wasn't looking to buy a car as I was content...</td>\n",
       "      <td>347</td>\n",
       "      <td>1691</td>\n",
       "      <td>164</td>\n",
       "      <td>0.472622</td>\n",
       "      <td>0.318008</td>\n",
       "      <td>0.611127</td>\n",
       "    </tr>\n",
       "    <tr>\n",
       "      <th>0</th>\n",
       "      <td>Even an EV needs service from time to time. Ki...</td>\n",
       "      <td>172</td>\n",
       "      <td>948</td>\n",
       "      <td>76</td>\n",
       "      <td>0.441860</td>\n",
       "      <td>0.394444</td>\n",
       "      <td>0.669306</td>\n",
       "    </tr>\n",
       "    <tr>\n",
       "      <th>2</th>\n",
       "      <td>Worked with Julio and he was excellent from st...</td>\n",
       "      <td>89</td>\n",
       "      <td>511</td>\n",
       "      <td>44</td>\n",
       "      <td>0.494382</td>\n",
       "      <td>0.475000</td>\n",
       "      <td>0.665625</td>\n",
       "    </tr>\n",
       "    <tr>\n",
       "      <th>8</th>\n",
       "      <td>Best car buying experience.   Julio was awesom...</td>\n",
       "      <td>39</td>\n",
       "      <td>258</td>\n",
       "      <td>13</td>\n",
       "      <td>0.333333</td>\n",
       "      <td>0.539167</td>\n",
       "      <td>0.669167</td>\n",
       "    </tr>\n",
       "  </tbody>\n",
       "</table>\n",
       "</div>"
      ],
      "text/plain": [
       "                                              Review  Word_count  Char_count  \\\n",
       "9  I usually only post reviews on Yelp when I hav...         186         998   \n",
       "5  Unprofessional sales team. They dismiss conver...          53         355   \n",
       "7  I recently purchased a used car from this deal...         136         758   \n",
       "6  I bought a new Kia Sorento Hybrid from Kia of ...         110         564   \n",
       "3  Been dealing with Kia Marin for years. Leased ...          84         473   \n",
       "4  Been bringing my Kia k5 here for a couple of y...          91         473   \n",
       "1  I wasn't looking to buy a car as I was content...         347        1691   \n",
       "0  Even an EV needs service from time to time. Ki...         172         948   \n",
       "2  Worked with Julio and he was excellent from st...          89         511   \n",
       "8  Best car buying experience.   Julio was awesom...          39         258   \n",
       "\n",
       "   stopword_counter  stopword_rate  polarity  subjectivity  \n",
       "9                88       0.473118  0.008117      0.539881  \n",
       "5                22       0.415094  0.016667      0.483333  \n",
       "7                65       0.477941  0.135714      0.602778  \n",
       "6                57       0.518182  0.275118      0.535458  \n",
       "3                36       0.428571  0.307589      0.606200  \n",
       "4                47       0.516484  0.313542      0.515625  \n",
       "1               164       0.472622  0.318008      0.611127  \n",
       "0                76       0.441860  0.394444      0.669306  \n",
       "2                44       0.494382  0.475000      0.665625  \n",
       "8                13       0.333333  0.539167      0.669167  "
      ]
     },
     "execution_count": 127,
     "metadata": {},
     "output_type": "execute_result"
    }
   ],
   "source": [
    "data_word.sort_values(by=\"polarity\")"
   ]
  },
  {
   "cell_type": "markdown",
   "metadata": {},
   "source": [
    "# Sentiment Analysis with BERT Neural Network and Python"
   ]
  },
  {
   "cell_type": "markdown",
   "metadata": {},
   "source": [
    "## Plan\n",
    "1. Install Transformers\n",
    "2. Perform Sentiment Analysis Scoring using BERT\n",
    "3. Scrape review from YELP and score"
   ]
  },
  {
   "cell_type": "markdown",
   "metadata": {},
   "source": [
    "### 1. Install and Import Dependencies"
   ]
  },
  {
   "cell_type": "code",
   "execution_count": 128,
   "metadata": {},
   "outputs": [
    {
     "name": "stdout",
     "output_type": "stream",
     "text": [
      "Looking in indexes: https://download.pytorch.org/whl/cu118\n",
      "Requirement already satisfied: torch in c:\\users\\gulfe\\onedrive\\desktop\\nlp_projects\\.venv\\lib\\site-packages (2.3.1+cu118)\n",
      "Requirement already satisfied: torchvision in c:\\users\\gulfe\\onedrive\\desktop\\nlp_projects\\.venv\\lib\\site-packages (0.18.1+cu118)\n",
      "Requirement already satisfied: torchaudio in c:\\users\\gulfe\\onedrive\\desktop\\nlp_projects\\.venv\\lib\\site-packages (2.3.1+cu118)\n",
      "Requirement already satisfied: filelock in c:\\users\\gulfe\\onedrive\\desktop\\nlp_projects\\.venv\\lib\\site-packages (from torch) (3.13.1)\n",
      "Requirement already satisfied: typing-extensions>=4.8.0 in c:\\users\\gulfe\\onedrive\\desktop\\nlp_projects\\.venv\\lib\\site-packages (from torch) (4.12.2)\n",
      "Requirement already satisfied: sympy in c:\\users\\gulfe\\onedrive\\desktop\\nlp_projects\\.venv\\lib\\site-packages (from torch) (1.12)\n",
      "Requirement already satisfied: networkx in c:\\users\\gulfe\\onedrive\\desktop\\nlp_projects\\.venv\\lib\\site-packages (from torch) (3.2.1)\n",
      "Requirement already satisfied: jinja2 in c:\\users\\gulfe\\onedrive\\desktop\\nlp_projects\\.venv\\lib\\site-packages (from torch) (3.1.3)\n",
      "Requirement already satisfied: fsspec in c:\\users\\gulfe\\onedrive\\desktop\\nlp_projects\\.venv\\lib\\site-packages (from torch) (2024.2.0)\n",
      "Requirement already satisfied: mkl<=2021.4.0,>=2021.1.1 in c:\\users\\gulfe\\onedrive\\desktop\\nlp_projects\\.venv\\lib\\site-packages (from torch) (2021.4.0)\n",
      "Requirement already satisfied: numpy in c:\\users\\gulfe\\onedrive\\desktop\\nlp_projects\\.venv\\lib\\site-packages (from torchvision) (1.26.4)\n",
      "Requirement already satisfied: pillow!=8.3.*,>=5.3.0 in c:\\users\\gulfe\\onedrive\\desktop\\nlp_projects\\.venv\\lib\\site-packages (from torchvision) (10.2.0)\n",
      "Requirement already satisfied: intel-openmp==2021.* in c:\\users\\gulfe\\onedrive\\desktop\\nlp_projects\\.venv\\lib\\site-packages (from mkl<=2021.4.0,>=2021.1.1->torch) (2021.4.0)\n",
      "Requirement already satisfied: tbb==2021.* in c:\\users\\gulfe\\onedrive\\desktop\\nlp_projects\\.venv\\lib\\site-packages (from mkl<=2021.4.0,>=2021.1.1->torch) (2021.11.0)\n",
      "Requirement already satisfied: MarkupSafe>=2.0 in c:\\users\\gulfe\\onedrive\\desktop\\nlp_projects\\.venv\\lib\\site-packages (from jinja2->torch) (2.1.5)\n",
      "Requirement already satisfied: mpmath>=0.19 in c:\\users\\gulfe\\onedrive\\desktop\\nlp_projects\\.venv\\lib\\site-packages (from sympy->torch) (1.3.0)\n"
     ]
    }
   ],
   "source": [
    "!pip3 install torch torchvision torchaudio --index-url https://download.pytorch.org/whl/cu118"
   ]
  },
  {
   "cell_type": "code",
   "execution_count": 129,
   "metadata": {},
   "outputs": [
    {
     "name": "stdout",
     "output_type": "stream",
     "text": [
      "Requirement already satisfied: transformers in c:\\users\\gulfe\\onedrive\\desktop\\nlp_projects\\.venv\\lib\\site-packages (4.41.2)\n",
      "Requirement already satisfied: requests in c:\\users\\gulfe\\onedrive\\desktop\\nlp_projects\\.venv\\lib\\site-packages (2.32.3)\n",
      "Requirement already satisfied: beautifulsoup4 in c:\\users\\gulfe\\onedrive\\desktop\\nlp_projects\\.venv\\lib\\site-packages (4.12.3)\n",
      "Requirement already satisfied: pandas in c:\\users\\gulfe\\onedrive\\desktop\\nlp_projects\\.venv\\lib\\site-packages (2.2.2)\n",
      "Requirement already satisfied: numpy in c:\\users\\gulfe\\onedrive\\desktop\\nlp_projects\\.venv\\lib\\site-packages (1.26.4)\n",
      "Requirement already satisfied: filelock in c:\\users\\gulfe\\onedrive\\desktop\\nlp_projects\\.venv\\lib\\site-packages (from transformers) (3.13.1)\n",
      "Requirement already satisfied: huggingface-hub<1.0,>=0.23.0 in c:\\users\\gulfe\\onedrive\\desktop\\nlp_projects\\.venv\\lib\\site-packages (from transformers) (0.23.3)\n",
      "Requirement already satisfied: packaging>=20.0 in c:\\users\\gulfe\\onedrive\\desktop\\nlp_projects\\.venv\\lib\\site-packages (from transformers) (24.1)\n",
      "Requirement already satisfied: pyyaml>=5.1 in c:\\users\\gulfe\\onedrive\\desktop\\nlp_projects\\.venv\\lib\\site-packages (from transformers) (6.0.1)\n",
      "Requirement already satisfied: regex!=2019.12.17 in c:\\users\\gulfe\\onedrive\\desktop\\nlp_projects\\.venv\\lib\\site-packages (from transformers) (2024.5.15)\n",
      "Requirement already satisfied: tokenizers<0.20,>=0.19 in c:\\users\\gulfe\\onedrive\\desktop\\nlp_projects\\.venv\\lib\\site-packages (from transformers) (0.19.1)\n",
      "Requirement already satisfied: safetensors>=0.4.1 in c:\\users\\gulfe\\onedrive\\desktop\\nlp_projects\\.venv\\lib\\site-packages (from transformers) (0.4.3)\n",
      "Requirement already satisfied: tqdm>=4.27 in c:\\users\\gulfe\\onedrive\\desktop\\nlp_projects\\.venv\\lib\\site-packages (from transformers) (4.66.4)\n",
      "Requirement already satisfied: charset-normalizer<4,>=2 in c:\\users\\gulfe\\onedrive\\desktop\\nlp_projects\\.venv\\lib\\site-packages (from requests) (3.3.2)\n",
      "Requirement already satisfied: idna<4,>=2.5 in c:\\users\\gulfe\\onedrive\\desktop\\nlp_projects\\.venv\\lib\\site-packages (from requests) (3.7)\n",
      "Requirement already satisfied: urllib3<3,>=1.21.1 in c:\\users\\gulfe\\onedrive\\desktop\\nlp_projects\\.venv\\lib\\site-packages (from requests) (2.2.1)\n",
      "Requirement already satisfied: certifi>=2017.4.17 in c:\\users\\gulfe\\onedrive\\desktop\\nlp_projects\\.venv\\lib\\site-packages (from requests) (2024.6.2)\n",
      "Requirement already satisfied: soupsieve>1.2 in c:\\users\\gulfe\\onedrive\\desktop\\nlp_projects\\.venv\\lib\\site-packages (from beautifulsoup4) (2.5)\n",
      "Requirement already satisfied: python-dateutil>=2.8.2 in c:\\users\\gulfe\\onedrive\\desktop\\nlp_projects\\.venv\\lib\\site-packages (from pandas) (2.9.0.post0)\n",
      "Requirement already satisfied: pytz>=2020.1 in c:\\users\\gulfe\\onedrive\\desktop\\nlp_projects\\.venv\\lib\\site-packages (from pandas) (2024.1)\n",
      "Requirement already satisfied: tzdata>=2022.7 in c:\\users\\gulfe\\onedrive\\desktop\\nlp_projects\\.venv\\lib\\site-packages (from pandas) (2024.1)\n",
      "Requirement already satisfied: fsspec>=2023.5.0 in c:\\users\\gulfe\\onedrive\\desktop\\nlp_projects\\.venv\\lib\\site-packages (from huggingface-hub<1.0,>=0.23.0->transformers) (2024.2.0)\n",
      "Requirement already satisfied: typing-extensions>=3.7.4.3 in c:\\users\\gulfe\\onedrive\\desktop\\nlp_projects\\.venv\\lib\\site-packages (from huggingface-hub<1.0,>=0.23.0->transformers) (4.12.2)\n",
      "Requirement already satisfied: six>=1.5 in c:\\users\\gulfe\\onedrive\\desktop\\nlp_projects\\.venv\\lib\\site-packages (from python-dateutil>=2.8.2->pandas) (1.16.0)\n",
      "Requirement already satisfied: colorama in c:\\users\\gulfe\\onedrive\\desktop\\nlp_projects\\.venv\\lib\\site-packages (from tqdm>=4.27->transformers) (0.4.6)\n"
     ]
    }
   ],
   "source": [
    "!pip install transformers requests beautifulsoup4 pandas numpy"
   ]
  },
  {
   "cell_type": "code",
   "execution_count": 130,
   "metadata": {},
   "outputs": [],
   "source": [
    "from transformers import AutoTokenizer, AutoModelForSequenceClassification\n",
    "import torch"
   ]
  },
  {
   "cell_type": "markdown",
   "metadata": {},
   "source": [
    "### 2. Instantiate Model"
   ]
  },
  {
   "cell_type": "code",
   "execution_count": 131,
   "metadata": {},
   "outputs": [],
   "source": [
    "tokenizer = AutoTokenizer.from_pretrained('nlptown/bert-base-multilingual-uncased-sentiment')\n",
    "model = AutoModelForSequenceClassification.from_pretrained('nlptown/bert-base-multilingual-uncased-sentiment')"
   ]
  },
  {
   "cell_type": "markdown",
   "metadata": {},
   "source": [
    "### 3. Collect Review"
   ]
  },
  {
   "cell_type": "code",
   "execution_count": 132,
   "metadata": {},
   "outputs": [],
   "source": [
    "tokens = tokenizer.encode('Meh, it was okey!', return_tensors=\"pt\")\n",
    "result = model(tokens)\n"
   ]
  },
  {
   "cell_type": "code",
   "execution_count": 133,
   "metadata": {},
   "outputs": [
    {
     "data": {
      "text/plain": [
       "tensor([[-0.7738,  1.8016,  2.8773, -0.3960, -2.9344]],\n",
       "       grad_fn=<AddmmBackward0>)"
      ]
     },
     "execution_count": 133,
     "metadata": {},
     "output_type": "execute_result"
    }
   ],
   "source": [
    "result.logits"
   ]
  },
  {
   "cell_type": "code",
   "execution_count": 134,
   "metadata": {},
   "outputs": [
    {
     "data": {
      "text/plain": [
       "3"
      ]
     },
     "execution_count": 134,
     "metadata": {},
     "output_type": "execute_result"
    }
   ],
   "source": [
    "int(torch.argmax(result.logits))+1"
   ]
  },
  {
   "cell_type": "markdown",
   "metadata": {},
   "source": [
    "### 4. Load Reviews into DataFrame and Score"
   ]
  },
  {
   "cell_type": "code",
   "execution_count": 135,
   "metadata": {},
   "outputs": [],
   "source": [
    "data[\"Rating\"] = data[\"Rating\"].apply(lambda x: ''.join(num for num in x.split() if num.isnumeric()))"
   ]
  },
  {
   "cell_type": "code",
   "execution_count": 136,
   "metadata": {},
   "outputs": [
    {
     "data": {
      "text/html": [
       "<div>\n",
       "<style scoped>\n",
       "    .dataframe tbody tr th:only-of-type {\n",
       "        vertical-align: middle;\n",
       "    }\n",
       "\n",
       "    .dataframe tbody tr th {\n",
       "        vertical-align: top;\n",
       "    }\n",
       "\n",
       "    .dataframe thead th {\n",
       "        text-align: right;\n",
       "    }\n",
       "</style>\n",
       "<table border=\"1\" class=\"dataframe\">\n",
       "  <thead>\n",
       "    <tr style=\"text-align: right;\">\n",
       "      <th></th>\n",
       "      <th>UserName</th>\n",
       "      <th>Review</th>\n",
       "      <th>Rating</th>\n",
       "    </tr>\n",
       "  </thead>\n",
       "  <tbody>\n",
       "    <tr>\n",
       "      <th>0</th>\n",
       "      <td>Maureen P.</td>\n",
       "      <td>Even an EV needs service from time to time. Ki...</td>\n",
       "      <td>5</td>\n",
       "    </tr>\n",
       "    <tr>\n",
       "      <th>1</th>\n",
       "      <td>Isis L.</td>\n",
       "      <td>I wasn't looking to buy a car as I was content...</td>\n",
       "      <td>5</td>\n",
       "    </tr>\n",
       "    <tr>\n",
       "      <th>2</th>\n",
       "      <td>Patrick H.</td>\n",
       "      <td>Worked with Julio and he was excellent from st...</td>\n",
       "      <td>5</td>\n",
       "    </tr>\n",
       "    <tr>\n",
       "      <th>3</th>\n",
       "      <td>Koichi D.</td>\n",
       "      <td>Been dealing with Kia Marin for years. Leased ...</td>\n",
       "      <td>5</td>\n",
       "    </tr>\n",
       "    <tr>\n",
       "      <th>4</th>\n",
       "      <td>Janessa B.</td>\n",
       "      <td>Been bringing my Kia k5 here for a couple of y...</td>\n",
       "      <td>5</td>\n",
       "    </tr>\n",
       "    <tr>\n",
       "      <th>5</th>\n",
       "      <td>Vikrant B.</td>\n",
       "      <td>Unprofessional sales team. They dismiss conver...</td>\n",
       "      <td>1</td>\n",
       "    </tr>\n",
       "    <tr>\n",
       "      <th>6</th>\n",
       "      <td>Amanda Y.</td>\n",
       "      <td>I bought a new Kia Sorento Hybrid from Kia of ...</td>\n",
       "      <td>5</td>\n",
       "    </tr>\n",
       "    <tr>\n",
       "      <th>7</th>\n",
       "      <td>Francis K.</td>\n",
       "      <td>I recently purchased a used car from this deal...</td>\n",
       "      <td>4</td>\n",
       "    </tr>\n",
       "    <tr>\n",
       "      <th>8</th>\n",
       "      <td>Jay C.</td>\n",
       "      <td>Best car buying experience.   Julio was awesom...</td>\n",
       "      <td>5</td>\n",
       "    </tr>\n",
       "    <tr>\n",
       "      <th>9</th>\n",
       "      <td>Michael F.</td>\n",
       "      <td>I usually only post reviews on Yelp when I hav...</td>\n",
       "      <td>1</td>\n",
       "    </tr>\n",
       "  </tbody>\n",
       "</table>\n",
       "</div>"
      ],
      "text/plain": [
       "     UserName                                             Review Rating\n",
       "0  Maureen P.  Even an EV needs service from time to time. Ki...      5\n",
       "1     Isis L.  I wasn't looking to buy a car as I was content...      5\n",
       "2  Patrick H.  Worked with Julio and he was excellent from st...      5\n",
       "3   Koichi D.  Been dealing with Kia Marin for years. Leased ...      5\n",
       "4  Janessa B.  Been bringing my Kia k5 here for a couple of y...      5\n",
       "5  Vikrant B.  Unprofessional sales team. They dismiss conver...      1\n",
       "6   Amanda Y.  I bought a new Kia Sorento Hybrid from Kia of ...      5\n",
       "7  Francis K.  I recently purchased a used car from this deal...      4\n",
       "8      Jay C.  Best car buying experience.   Julio was awesom...      5\n",
       "9  Michael F.  I usually only post reviews on Yelp when I hav...      1"
      ]
     },
     "execution_count": 136,
     "metadata": {},
     "output_type": "execute_result"
    }
   ],
   "source": [
    "data"
   ]
  },
  {
   "cell_type": "code",
   "execution_count": 137,
   "metadata": {},
   "outputs": [
    {
     "data": {
      "text/plain": [
       "\"Even an EV needs service from time to time. Kia Marin hits the ball out of the park each time I've needed assistance or service. I purchased my Kia Niro EV in 2019 and couldn't be happier. Matthew, Eddie and the entire team are efficient, knowledgeable, fully up to speed on Kia vehicle services and explain services and pricing so you know what you are getting is what your car needs at a reasonable price. I  know I will get excellent service and a pleasant welcome each time I call or come by in person. I am very happy with my vehicle and its care. This uncomplicates at least one important job in daily life - having safe, reliable and well maintained transportation. Would that Kia could branch out to other endeavors to help our lives flow smoothly. Go with Kia. No wonder it gets high  marks in national vehicle reviews! Not just the product is the end of the line. It's a well build service organization that cares about keeping customers.\""
      ]
     },
     "execution_count": 137,
     "metadata": {},
     "output_type": "execute_result"
    }
   ],
   "source": [
    "data[\"Review\"].iloc[0]"
   ]
  },
  {
   "cell_type": "code",
   "execution_count": 138,
   "metadata": {},
   "outputs": [],
   "source": [
    "def sentiment_score(review):\n",
    "    tokens = tokenizer.encode(review, return_tensors=\"pt\")\n",
    "    result = model(tokens)\n",
    "    return int(torch.argmax(result.logits)) + 1"
   ]
  },
  {
   "cell_type": "code",
   "execution_count": 139,
   "metadata": {},
   "outputs": [
    {
     "data": {
      "text/plain": [
       "5"
      ]
     },
     "execution_count": 139,
     "metadata": {},
     "output_type": "execute_result"
    }
   ],
   "source": [
    "sentiment_score(data[\"Review\"].iloc[0])"
   ]
  },
  {
   "cell_type": "code",
   "execution_count": 140,
   "metadata": {},
   "outputs": [],
   "source": [
    "data[\"Sentiment\"] = data[\"Review\"].apply(lambda x: sentiment_score(x))"
   ]
  },
  {
   "cell_type": "code",
   "execution_count": 141,
   "metadata": {},
   "outputs": [
    {
     "data": {
      "text/html": [
       "<div>\n",
       "<style scoped>\n",
       "    .dataframe tbody tr th:only-of-type {\n",
       "        vertical-align: middle;\n",
       "    }\n",
       "\n",
       "    .dataframe tbody tr th {\n",
       "        vertical-align: top;\n",
       "    }\n",
       "\n",
       "    .dataframe thead th {\n",
       "        text-align: right;\n",
       "    }\n",
       "</style>\n",
       "<table border=\"1\" class=\"dataframe\">\n",
       "  <thead>\n",
       "    <tr style=\"text-align: right;\">\n",
       "      <th></th>\n",
       "      <th>UserName</th>\n",
       "      <th>Review</th>\n",
       "      <th>Rating</th>\n",
       "      <th>Sentiment</th>\n",
       "    </tr>\n",
       "  </thead>\n",
       "  <tbody>\n",
       "    <tr>\n",
       "      <th>0</th>\n",
       "      <td>Maureen P.</td>\n",
       "      <td>Even an EV needs service from time to time. Ki...</td>\n",
       "      <td>5</td>\n",
       "      <td>5</td>\n",
       "    </tr>\n",
       "    <tr>\n",
       "      <th>1</th>\n",
       "      <td>Isis L.</td>\n",
       "      <td>I wasn't looking to buy a car as I was content...</td>\n",
       "      <td>5</td>\n",
       "      <td>4</td>\n",
       "    </tr>\n",
       "    <tr>\n",
       "      <th>2</th>\n",
       "      <td>Patrick H.</td>\n",
       "      <td>Worked with Julio and he was excellent from st...</td>\n",
       "      <td>5</td>\n",
       "      <td>5</td>\n",
       "    </tr>\n",
       "    <tr>\n",
       "      <th>3</th>\n",
       "      <td>Koichi D.</td>\n",
       "      <td>Been dealing with Kia Marin for years. Leased ...</td>\n",
       "      <td>5</td>\n",
       "      <td>5</td>\n",
       "    </tr>\n",
       "    <tr>\n",
       "      <th>4</th>\n",
       "      <td>Janessa B.</td>\n",
       "      <td>Been bringing my Kia k5 here for a couple of y...</td>\n",
       "      <td>5</td>\n",
       "      <td>5</td>\n",
       "    </tr>\n",
       "    <tr>\n",
       "      <th>5</th>\n",
       "      <td>Vikrant B.</td>\n",
       "      <td>Unprofessional sales team. They dismiss conver...</td>\n",
       "      <td>1</td>\n",
       "      <td>1</td>\n",
       "    </tr>\n",
       "    <tr>\n",
       "      <th>6</th>\n",
       "      <td>Amanda Y.</td>\n",
       "      <td>I bought a new Kia Sorento Hybrid from Kia of ...</td>\n",
       "      <td>5</td>\n",
       "      <td>5</td>\n",
       "    </tr>\n",
       "    <tr>\n",
       "      <th>7</th>\n",
       "      <td>Francis K.</td>\n",
       "      <td>I recently purchased a used car from this deal...</td>\n",
       "      <td>4</td>\n",
       "      <td>1</td>\n",
       "    </tr>\n",
       "    <tr>\n",
       "      <th>8</th>\n",
       "      <td>Jay C.</td>\n",
       "      <td>Best car buying experience.   Julio was awesom...</td>\n",
       "      <td>5</td>\n",
       "      <td>5</td>\n",
       "    </tr>\n",
       "    <tr>\n",
       "      <th>9</th>\n",
       "      <td>Michael F.</td>\n",
       "      <td>I usually only post reviews on Yelp when I hav...</td>\n",
       "      <td>1</td>\n",
       "      <td>2</td>\n",
       "    </tr>\n",
       "  </tbody>\n",
       "</table>\n",
       "</div>"
      ],
      "text/plain": [
       "     UserName                                             Review Rating  \\\n",
       "0  Maureen P.  Even an EV needs service from time to time. Ki...      5   \n",
       "1     Isis L.  I wasn't looking to buy a car as I was content...      5   \n",
       "2  Patrick H.  Worked with Julio and he was excellent from st...      5   \n",
       "3   Koichi D.  Been dealing with Kia Marin for years. Leased ...      5   \n",
       "4  Janessa B.  Been bringing my Kia k5 here for a couple of y...      5   \n",
       "5  Vikrant B.  Unprofessional sales team. They dismiss conver...      1   \n",
       "6   Amanda Y.  I bought a new Kia Sorento Hybrid from Kia of ...      5   \n",
       "7  Francis K.  I recently purchased a used car from this deal...      4   \n",
       "8      Jay C.  Best car buying experience.   Julio was awesom...      5   \n",
       "9  Michael F.  I usually only post reviews on Yelp when I hav...      1   \n",
       "\n",
       "   Sentiment  \n",
       "0          5  \n",
       "1          4  \n",
       "2          5  \n",
       "3          5  \n",
       "4          5  \n",
       "5          1  \n",
       "6          5  \n",
       "7          1  \n",
       "8          5  \n",
       "9          2  "
      ]
     },
     "execution_count": 141,
     "metadata": {},
     "output_type": "execute_result"
    }
   ],
   "source": [
    "data"
   ]
  },
  {
   "cell_type": "code",
   "execution_count": null,
   "metadata": {},
   "outputs": [],
   "source": []
  }
 ],
 "metadata": {
  "kernelspec": {
   "display_name": "Python 3",
   "language": "python",
   "name": "python3"
  },
  "language_info": {
   "codemirror_mode": {
    "name": "ipython",
    "version": 3
   },
   "file_extension": ".py",
   "mimetype": "text/x-python",
   "name": "python",
   "nbconvert_exporter": "python",
   "pygments_lexer": "ipython3",
   "version": "3.11.8"
  }
 },
 "nbformat": 4,
 "nbformat_minor": 2
}
